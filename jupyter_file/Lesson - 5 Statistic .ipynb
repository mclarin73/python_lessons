{
 "cells": [
  {
   "cell_type": "code",
   "execution_count": 1,
   "id": "53047ace",
   "metadata": {},
   "outputs": [],
   "source": [
    "import pandas as pd \n",
    "import numpy as np \n",
    "import seaborn as sns\n",
    "import matplotlib.pyplot as plt\n",
    "import scipy\n",
    "from scipy import stats\n",
    "import random\n",
    "%matplotlib inline"
   ]
  },
  {
   "cell_type": "code",
   "execution_count": null,
   "id": "32e5d599",
   "metadata": {},
   "outputs": [],
   "source": []
  },
  {
   "cell_type": "markdown",
   "id": "2adf2955",
   "metadata": {},
   "source": [
    "## Probality Theory\n",
    "> Генеральная совокупность — вся изучаемая выборочным методом статистическая совокупность объектов и/или явлений общественной жизни (единиц отбора), имеющих общие качественные признаки или количественные переменные. Выборочная совокупность (выборка) — представительная часть генеральной совокупности.\n",
    "\n",
    "> Дополнение события - это событие, которое не произойдет. Вероятность того, что событие A не произойдет, обозначается P(A'). Вероятность того, что события A и B произойдут одновременно, - это вероятность пересечения A и B. Вероятность пересечения событий A и B обозначается P(A ∩ B).\n",
    "\n",
    "> Intersection\tP(A ∩ B)\n",
    "Probability of A and B\n",
    "Union\tP (A∪B)\n",
    "Probability of A or B\n"
   ]
  },
  {
   "cell_type": "markdown",
   "id": "41f29ec8",
   "metadata": {},
   "source": [
    "### Матожидание \n",
    "![Формула матожидание]('https://cdn.uznaychtotakoe.ru/images/m-x-p-xi-xi-correcta-cke.jpg')\n",
    "> m = ∑xipi - наиболее ожидаемое значение вероятности"
   ]
  },
  {
   "cell_type": "code",
   "execution_count": 234,
   "id": "700ed29e",
   "metadata": {},
   "outputs": [
    {
     "name": "stdout",
     "output_type": "stream",
     "text": [
      "36.25\n"
     ]
    }
   ],
   "source": [
    "# First variant to solve - Сумма попарных *\n",
    "quanily = [2, 12, 3]\n",
    "costs = [12.5, .5, 1.75]\n",
    "\n",
    "partial_cost = []\n",
    "for q, c in zip(quanily, costs):\n",
    "    partial_cost.append(q * c)\n",
    "\n",
    "print(sum(partial_cost))"
   ]
  },
  {
   "cell_type": "code",
   "execution_count": 236,
   "id": "6f983a2f",
   "metadata": {},
   "outputs": [
    {
     "name": "stdout",
     "output_type": "stream",
     "text": [
      "36.25\n"
     ]
    }
   ],
   "source": [
    "# Second variant to solve\n",
    "quanily = [2, 12, 3]\n",
    "costs = [12.5, .5, 1.75]\n",
    "\n",
    "partial_cost = [q * c for q, c in zip(quanily, costs)]\n",
    "\n",
    "print(sum(partial_cost))"
   ]
  },
  {
   "cell_type": "code",
   "execution_count": 237,
   "id": "80ed212b",
   "metadata": {},
   "outputs": [
    {
     "data": {
      "text/plain": [
       "36.25"
      ]
     },
     "execution_count": 237,
     "metadata": {},
     "output_type": "execute_result"
    }
   ],
   "source": [
    "# Third variant \n",
    "quanily = np.array([2, 12, 3])\n",
    "costs = np.array([12.5, .5, 1.75])\n",
    "\n",
    "np.sum(quanily * costs)"
   ]
  },
  {
   "cell_type": "code",
   "execution_count": 243,
   "id": "3c026b45",
   "metadata": {},
   "outputs": [
    {
     "data": {
      "text/plain": [
       "array([0.2, 0.2, 0.2, 0.2, 0.2])"
      ]
     },
     "execution_count": 243,
     "metadata": {},
     "output_type": "execute_result"
    }
   ],
   "source": [
    "# Взвесить каждый элемент \n",
    "values = np.array([10.0, 20.0, 30.0])\n",
    "weights = np.full_like(values, 1/3)\n",
    "val1 = np.array([10.0, 20.0, 30.0, 15.0, 16.0])\n",
    "\n",
    "weights2 = np.full_like(val1, 1/5)\n",
    "weights2"
   ]
  },
  {
   "cell_type": "code",
   "execution_count": 270,
   "id": "36b459cc",
   "metadata": {},
   "outputs": [
    {
     "data": {
      "text/plain": [
       "0.235"
      ]
     },
     "execution_count": 270,
     "metadata": {},
     "output_type": "execute_result"
    }
   ],
   "source": [
    "# Simple game\n",
    "payoff = np.array([1.0, -.5]) \n",
    "probs = np.array([.49, .51])\n",
    "np.dot(payoff, probs) # матожидание "
   ]
  },
  {
   "cell_type": "code",
   "execution_count": 272,
   "id": "b690b980",
   "metadata": {},
   "outputs": [
    {
     "data": {
      "text/plain": [
       "249115.0"
      ]
     },
     "execution_count": 272,
     "metadata": {},
     "output_type": "execute_result"
    }
   ],
   "source": [
    "def is_even(value:float):\n",
    "    return value % 2 == 0\n",
    "\n",
    "winnings = 0.0\n",
    "for t in range(1000000):\n",
    "    die_toss = np.random.randint(1,7)\n",
    "    winnings += 1.0 if is_even(die_toss) else -.5\n",
    "    \n",
    "winnings"
   ]
  },
  {
   "cell_type": "code",
   "execution_count": 274,
   "id": "e01818fb",
   "metadata": {},
   "outputs": [
    {
     "name": "stdout",
     "output_type": "stream",
     "text": [
      "[25  9  4  1] 39\n"
     ]
    }
   ],
   "source": [
    "# Сумма квадратов \n",
    "values1 = np.array([-5, -3, -2,10])\n",
    "squares = values1 * values1\n",
    "print(squares, sum(squares))"
   ]
  },
  {
   "cell_type": "code",
   "execution_count": 275,
   "id": "260ffecd",
   "metadata": {},
   "outputs": [
    {
     "data": {
      "text/html": [
       "<div>\n",
       "<style scoped>\n",
       "    .dataframe tbody tr th:only-of-type {\n",
       "        vertical-align: middle;\n",
       "    }\n",
       "\n",
       "    .dataframe tbody tr th {\n",
       "        vertical-align: top;\n",
       "    }\n",
       "\n",
       "    .dataframe thead th {\n",
       "        text-align: right;\n",
       "    }\n",
       "</style>\n",
       "<table border=\"1\" class=\"dataframe\">\n",
       "  <thead>\n",
       "    <tr style=\"text-align: right;\">\n",
       "      <th></th>\n",
       "      <th>errors</th>\n",
       "      <th>squared</th>\n",
       "    </tr>\n",
       "  </thead>\n",
       "  <tbody>\n",
       "    <tr>\n",
       "      <th>0</th>\n",
       "      <td>5.0</td>\n",
       "      <td>25.00</td>\n",
       "    </tr>\n",
       "    <tr>\n",
       "      <th>1</th>\n",
       "      <td>-5.0</td>\n",
       "      <td>25.00</td>\n",
       "    </tr>\n",
       "    <tr>\n",
       "      <th>2</th>\n",
       "      <td>3.2</td>\n",
       "      <td>10.24</td>\n",
       "    </tr>\n",
       "    <tr>\n",
       "      <th>3</th>\n",
       "      <td>-1.1</td>\n",
       "      <td>1.21</td>\n",
       "    </tr>\n",
       "  </tbody>\n",
       "</table>\n",
       "</div>"
      ],
      "text/plain": [
       "   errors  squared\n",
       "0     5.0    25.00\n",
       "1    -5.0    25.00\n",
       "2     3.2    10.24\n",
       "3    -1.1     1.21"
      ]
     },
     "execution_count": 275,
     "metadata": {},
     "output_type": "execute_result"
    }
   ],
   "source": [
    "# Ошибка и пример \n",
    "errors = np.array([5, -5, 3.2, -1.1])\n",
    "error_df = pd.DataFrame({'errors': errors,'squared':errors * errors})\n",
    "error_df"
   ]
  },
  {
   "cell_type": "markdown",
   "id": "37c20c83",
   "metadata": {},
   "source": [
    "### Моделирование Монте-Карло\n",
    "> Монте-Карло – это группа математических методов, которые используют генератор случайных чисел и применяют для моделирования процессов с неопределенностью. \n",
    "> Они эффективны для расчета бизнес-рисков и прогнозирования неблагоприятных событий, например перерасхода средств или отставания от графика.\n",
    "\n",
    "> Метод был разработан американскими учеными Станиславом Уламом и Джоном фон Нейманом во время их секретной работы в рамках Манхэттенского проекта по созданию ядерного оружия в 1940-х годах. \n",
    "> Само название «Монте-Карло» появилось из-за необходимости присвоить методу кодовое слово. Хотя метод имеет отношение к случайным величинам, назвали его так не случайно.\n",
    "\n",
    "> Коллега Улама, Николас Метрополис, предложил назвать разработанный метод в честь широко известного района княжества Монако. Существует предположение, что его вдохновила история о дяде Улама, который на деньги родственников играл в казино Монте-Карло. Название прижилось, а метод получил широкое распространение.\n",
    "> Сегодня Монте-Карло используется в моделировании и помогает более эффективно принимать решения и строить точные долгосрочные прогнозы."
   ]
  },
  {
   "cell_type": "markdown",
   "id": "30414e16",
   "metadata": {},
   "source": [
    "### Flipping Coin \n",
    "> Метод Монте-Карло: В общем случае это получение случайных значений из эксперимента. Другими словами, повторение одних и тех же процедур снова и снова и вычисление их вероятности.\n",
    "> В этом учебнике мы начнем с подбрасывания монеты, поскольку в справедливом случае есть два случая (голова и решка), где каждый имеет 50% процент.\n",
    "\n",
    "\n",
    "В дальнейшем для получения количества голов и хвостов по отдельности мы вычислили. Для этого мы можем использовать простую функцию суммирования матрицы, которая даст количество единиц в эксперименте. Затем просто вычтем эти единицы, чтобы получить нули, следующим образом,"
   ]
  },
  {
   "cell_type": "code",
   "execution_count": 2,
   "id": "f4820680",
   "metadata": {},
   "outputs": [],
   "source": [
    "def coint_flip():\n",
    "    return random.randint(0, 1)\n",
    "\n",
    "result_l = []\n",
    "\n",
    "def monte_carlo(n):\n",
    "    plt.subplots(figsize = (12,9))\n",
    "    result = 0\n",
    "    \n",
    "    for i in range(n):\n",
    "        flip_result = coint_flip()\n",
    "        result = result +  flip_result\n",
    "        \n",
    "        prob_var = result / (i + 1)\n",
    "        \n",
    "        result_l.append(prob_var)\n",
    "        \n",
    "    plt.axhline(y = 0.5, color = 'r', linestyle = '-')\n",
    "    plt.xlabel('Iterations')\n",
    "    plt.ylabel('Probability')\n",
    "    plt.plot(result_l)\n",
    "    return result / n"
   ]
  },
  {
   "cell_type": "code",
   "execution_count": null,
   "id": "cdedd341",
   "metadata": {},
   "outputs": [],
   "source": []
  },
  {
   "cell_type": "code",
   "execution_count": 3,
   "id": "59edf508",
   "metadata": {},
   "outputs": [
    {
     "name": "stdout",
     "output_type": "stream",
     "text": [
      "Find value:  0.499524\n"
     ]
    },
    {
     "data": {
      "image/png": "[encoded data removed]",
      "text/plain": [
       "<Figure size 864x648 with 1 Axes>"
      ]
     },
     "metadata": {
      "needs_background": "light"
     },
     "output_type": "display_data"
    }
   ],
   "source": [
    "answear = monte_carlo(500000)\n",
    "print('Find value: ',answear)"
   ]
  },
  {
   "cell_type": "markdown",
   "id": "c7df3f9b",
   "metadata": {},
   "source": [
    "## Попадание в круг\n"
   ]
  },
  {
   "cell_type": "code",
   "execution_count": 7,
   "id": "cdee8ca9",
   "metadata": {},
   "outputs": [
    {
     "name": "stdout",
     "output_type": "stream",
     "text": [
      "Enter integer value: 15\n",
      "0.12124810260504548 0.11020548600757685\n",
      "0.2175737721388945 0.8980676354071242\n",
      "0.13422338066356365 0.411839062552808\n",
      "0.14089880315184855 0.5402867861583891\n",
      "0.8425179337683998 0.5756297417600695\n",
      "0.7904516809411554 0.7411054112534834\n",
      "0.7469705958614782 0.14981653323681632\n",
      "0.9440927431026952 0.2986626655904475\n",
      "0.6029704695666995 0.022347058121772734\n",
      "0.4182378356300972 0.9328015070125137\n",
      "0.7087645821115391 0.70669097661346\n",
      "0.5722434922153904 0.35920365796551457\n",
      "0.2352402206930605 0.42408173124285653\n",
      "0.9765072386615192 0.6176559769291481\n",
      "0.7988725320276292 0.667457163304727\n",
      "2.4\n"
     ]
    }
   ],
   "source": [
    "m = input('Enter integer value: ')\n",
    "n = 0 # попаданий в точку \n",
    "import math \n",
    "import random \n",
    "for i in range(int(m)):\n",
    "    x = random.random()\n",
    "    y = random.random()\n",
    "    print(x, y)\n",
    "    if math.sqrt(x ** 2 + y ** 2) < 1:\n",
    "        n += 1\n",
    "\n",
    "pi = 4 * n / int(m)\n",
    "print(pi)\n"
   ]
  },
  {
   "cell_type": "markdown",
   "id": "017d0d19",
   "metadata": {},
   "source": [
    "## Проблема Монти Холла\n",
    "> Парадокс впервые был сформулирован американским математиком Стивом Селвином ещё в 1975 году, но широкую известность он приобрёл благодаря популярному игровому шоу «Давайте заключим сделку». В честь ведущего этой телевикторины, которого звали Монти Холл, парадокс и получил своё название.\n",
    "В чём же суть парадокса Монти Холла?\n",
    "\n",
    "> Представьте, что перед вами три двери, как показано на рисунке ниже. За двумя дверьми находятся козы, за одной — автомобиль. Надо угадать дверь с автомобилем, и он ваш."
   ]
  },
  {
   "cell_type": "markdown",
   "id": "ab99b690",
   "metadata": {},
   "source": [
    "### Выгодно ли менять дверь ?\n",
    "![Выбор двери](https://upload.wikimedia.org/wikipedia/commons/thumb/3/3f/Monty_open_door.svg/640px-Monty_open_door.svg.png)\n",
    "\n",
    "> 1/3 - car 1/3 - goat 1/3 - goat"
   ]
  },
  {
   "cell_type": "markdown",
   "id": "6631e031",
   "metadata": {},
   "source": [
    "## Выбрали одну дверь и получили результатм с 1/3 до 2/3\n",
    "![Выбор после открытие одной двери](https://miro.medium.com/max/1400/0*2VPhlzymLpGTrzG3.png)"
   ]
  },
  {
   "cell_type": "code",
   "execution_count": 212,
   "id": "d7ffbd13",
   "metadata": {},
   "outputs": [],
   "source": []
  },
  {
   "cell_type": "code",
   "execution_count": 16,
   "id": "1a57d550",
   "metadata": {},
   "outputs": [
    {
     "name": "stdout",
     "output_type": "stream",
     "text": [
      "Winning prob if you always switch:  0.688\n",
      "Winning prob if you stay original choise:  0.312\n"
     ]
    },
    {
     "data": {
      "image/png": "[encoded data removed]",
      "text/plain": [
       "<Figure size 432x288 with 1 Axes>"
      ]
     },
     "metadata": {
      "needs_background": "light"
     },
     "output_type": "display_data"
    }
   ],
   "source": [
    "doors = ['goat', 'goat', 'car']\n",
    "\n",
    "switch_win_prob = []\n",
    "stick_win_prob = []\n",
    "\n",
    "plt.axhline(y = 0.6666, color = 'purple', linestyle = '-')\n",
    "plt.axhline(y = 0.3333, color = 'b', linestyle = '-')\n",
    "\n",
    "def monte_carlo(n):\n",
    "    \n",
    "    switch_wins = 0\n",
    "    stick_wins = 0\n",
    "    \n",
    "    for i in range(n):\n",
    "        \n",
    "        random.shuffle(doors)\n",
    "        \n",
    "        k = random.randrange(2)\n",
    "        \n",
    "        if doors[k] != 'car':\n",
    "            switch_wins += 1\n",
    "        else:\n",
    "            stick_wins += 1\n",
    "        \n",
    "        switch_win_prob.append(switch_wins / (i + 1))\n",
    "        stick_win_prob.append(stick_wins / (i + 1))\n",
    "        \n",
    "        plt.plot(switch_win_prob)\n",
    "        plt.plot(stick_win_prob)\n",
    "        \n",
    "    print('Winning prob if you always switch: ',switch_win_prob[-1])\n",
    "    print('Winning prob if you stay original choise: ',stick_win_prob[-1])\n",
    "        \n",
    "monte_carlo(500)"
   ]
  },
  {
   "cell_type": "markdown",
   "id": "bb1b1877",
   "metadata": {},
   "source": [
    "### Rules \n",
    "    1. В мешочке лежат карточки с числами от 1 до 100\n",
    "    2. Пользователь делает ставку четное или нечетное\n",
    "    3. 10, 11 - спец числа где 10 - нечет, 11 - чет\n",
    "    4. Если вы ставите на четное число и получаете 10, вы проигрываете\n",
    "    5. Если вы ставите на нечетное число и получаете 11, вы проигрываете"
   ]
  },
  {
   "cell_type": "code",
   "execution_count": 43,
   "id": "7e46fd80",
   "metadata": {},
   "outputs": [
    {
     "name": "stdout",
     "output_type": "stream",
     "text": [
      "Even or Odd: Odd\n",
      "All tries:  [18000, 6000, -4000, 20000, -4000, -6000, 4000, 18000, 14000, 12000]\n",
      "Player start with 10000 each time 10\n",
      "Total capital after all ties:  78000\n"
     ]
    },
    {
     "data": {
      "image/png": "[encoded data removed]",
      "text/plain": [
       "<Figure size 432x288 with 1 Axes>"
      ]
     },
     "metadata": {
      "needs_background": "light"
     },
     "output_type": "display_data"
    }
   ],
   "source": [
    "choice = input('Even or Odd: ')\n",
    "if choice == 'Even':\n",
    "    def pick_note():\n",
    "        \n",
    "        note = random.randint(1, 101)\n",
    "        \n",
    "        # проверяем условие игры\n",
    "        \n",
    "        if note % 2 != 0:\n",
    "            return False \n",
    "        elif note % 2 == 0:\n",
    "            return True\n",
    "\n",
    "elif choice == 'Odd':\n",
    "    def pick_note():\n",
    "        \n",
    "        note = random.randint(1, 101)\n",
    "        \n",
    "        # проверяем условие игры\n",
    "        if note % 2 == 0 :\n",
    "            return False\n",
    "        elif note % 2 == 1:\n",
    "            return True\n",
    "         \n",
    "# Функция главной игры\n",
    "def play(total_money, bet_money, total_plays):\n",
    "    \n",
    "    num_of_plays = []\n",
    "    money = []\n",
    "    \n",
    "    play = 1\n",
    "    \n",
    "    for play in range(total_plays):\n",
    "        if pick_note():\n",
    "            \n",
    "            total_money = total_money + bet_money\n",
    "            num_of_plays.append(play)\n",
    "            money.append(total_money)\n",
    "        \n",
    "        else:\n",
    "            total_money = total_money - bet_money\n",
    "            \n",
    "            num_of_plays.append(play)\n",
    "            \n",
    "            money.append(total_money)\n",
    "        \n",
    "    plt.ylabel('Player money')\n",
    "    plt.xlabel('Number of bets')\n",
    "    plt.plot(num_of_plays, money)\n",
    "    plt.grid()\n",
    "    final_funds.append(money[-1])\n",
    "    return final_funds\n",
    "\n",
    "final_funds = []\n",
    "\n",
    "start_capital = 10000\n",
    "bet_strategy = 1000\n",
    "\n",
    "number_of_tries = 10 # дней когда ходили попыток\n",
    "\n",
    "\n",
    "number_of_games_attended_each_try = 100 # количество игр\n",
    "\n",
    "for i in range(number_of_tries):\n",
    "    end_fund = play(start_capital, bet_strategy\n",
    "                    , number_of_games_attended_each_try)\n",
    "    \n",
    "print('All tries: ', end_fund)\n",
    "print(f'Player start with {start_capital} each time {number_of_tries}') # del squares\n",
    "\n",
    "print('Total capital after all ties: ', sum(end_fund))\n",
    "\n",
    "#print('Capital change in percent:', sum(end_fund) / len(end_fund) - start_capital) * 100"
   ]
  },
  {
   "cell_type": "code",
   "execution_count": 42,
   "id": "6176cbb8",
   "metadata": {},
   "outputs": [
    {
     "name": "stdout",
     "output_type": "stream",
     "text": [
      "500 500\n"
     ]
    }
   ],
   "source": [
    "even = []\n",
    "odd = []\n",
    "\n",
    "for i in range(1, 1001):\n",
    "    if i % 2 == 0:\n",
    "        even.append(i)\n",
    "    elif i % 2 == 1:\n",
    "        odd.append(i)\n",
    "        \n",
    "sum_even = sum(even)\n",
    "sum_odd = sum(odd)\n",
    "print(len(even), len(odd))"
   ]
  },
  {
   "cell_type": "code",
   "execution_count": null,
   "id": "646b739a",
   "metadata": {},
   "outputs": [],
   "source": []
  },
  {
   "cell_type": "markdown",
   "id": "4056ea49",
   "metadata": {},
   "source": [
    "### Slide 15\n",
    "> X1and X2are random variables of the results of rolling 2 fair dice. \n",
    "> Use a numpy simulation to show the distribution of the sum of the dice, i.e. X1+ X2."
   ]
  },
  {
   "cell_type": "code",
   "execution_count": 50,
   "id": "0d9b5010",
   "metadata": {},
   "outputs": [
    {
     "data": {
      "text/plain": [
       "36.25"
      ]
     },
     "execution_count": 50,
     "metadata": {},
     "output_type": "execute_result"
    }
   ],
   "source": [
    "quanily = np.array([2, 12, 3])\n",
    "costs = np.array([12.5, .5, 1.75])\n",
    "\n",
    "np.sum(quanily * costs)"
   ]
  },
  {
   "cell_type": "markdown",
   "id": "e9e01bce",
   "metadata": {},
   "source": [
    "### Slide 16 \n",
    "> X1and X2are random variables of the results of rolling 2 fair dice. \n",
    "> Use a numpy simulation to show the distribution of the sum of the dice, i.e. X1+ X2."
   ]
  },
  {
   "cell_type": "code",
   "execution_count": null,
   "id": "01401a90",
   "metadata": {},
   "outputs": [],
   "source": []
  },
  {
   "cell_type": "code",
   "execution_count": null,
   "id": "103728ed",
   "metadata": {},
   "outputs": [],
   "source": []
  },
  {
   "cell_type": "markdown",
   "id": "7263ff8b",
   "metadata": {},
   "source": [
    "### Slide 18\n",
    "> X1, X2and X3are random variables of the results of rolling 3 fair dice.\n",
    "> Use a numpy simulation to show the distribution of:\n",
    " 1. P(X1+ X2+ X3)\n",
    " 2. P(X1+ X2+ X3| X3= 4)\n",
    " 3. P(X1+ X2+ X3| X1+ X2= 4)\n",
    " 4. Explain the results."
   ]
  },
  {
   "cell_type": "code",
   "execution_count": null,
   "id": "d6fdb951",
   "metadata": {},
   "outputs": [],
   "source": []
  },
  {
   "cell_type": "markdown",
   "id": "4ebd4ec2",
   "metadata": {},
   "source": [
    "### Slide 27\n",
    "> Design and implement a Monte Carlo experiment to estimate the value of pi."
   ]
  },
  {
   "cell_type": "code",
   "execution_count": null,
   "id": "d30a6c3c",
   "metadata": {},
   "outputs": [],
   "source": []
  },
  {
   "cell_type": "code",
   "execution_count": null,
   "id": "41c95473",
   "metadata": {},
   "outputs": [],
   "source": []
  },
  {
   "cell_type": "code",
   "execution_count": null,
   "id": "e4c7cc6b",
   "metadata": {},
   "outputs": [],
   "source": []
  }
 ],
 "metadata": {
  "kernelspec": {
   "display_name": "Python 3 (ipykernel)",
   "language": "python",
   "name": "python3"
  },
  "language_info": {
   "codemirror_mode": {
    "name": "ipython",
    "version": 3
   },
   "file_extension": ".py",
   "mimetype": "text/x-python",
   "name": "python",
   "nbconvert_exporter": "python",
   "pygments_lexer": "ipython3",
   "version": "3.10.5"
  }
 },
 "nbformat": 4,
 "nbformat_minor": 5
}
