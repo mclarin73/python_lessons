{
 "cells": [
  {
   "cell_type": "markdown",
   "id": "4676b9ce",
   "metadata": {},
   "source": [
    "## Импорт библиотек "
   ]
  },
  {
   "cell_type": "code",
   "execution_count": 47,
   "id": "0fb06e22",
   "metadata": {},
   "outputs": [],
   "source": [
    "from os import path\n",
    "import numpy as np\n",
    "import pandas as pd\n",
    "import seaborn as sns\n",
    "import matplotlib.pyplot as plt\n",
    "%matplotlib inline\n"
   ]
  },
  {
   "cell_type": "code",
   "execution_count": 48,
   "id": "37c07709",
   "metadata": {},
   "outputs": [],
   "source": [
    "df = pd.read_csv('/Users/alksandr/Desktop/1.csv')"
   ]
  },
  {
   "cell_type": "code",
   "execution_count": 50,
   "id": "f0fc28d9",
   "metadata": {},
   "outputs": [
    {
     "data": {
      "text/html": [
       "<div>\n",
       "<style scoped>\n",
       "    .dataframe tbody tr th:only-of-type {\n",
       "        vertical-align: middle;\n",
       "    }\n",
       "\n",
       "    .dataframe tbody tr th {\n",
       "        vertical-align: top;\n",
       "    }\n",
       "\n",
       "    .dataframe thead th {\n",
       "        text-align: right;\n",
       "    }\n",
       "</style>\n",
       "<table border=\"1\" class=\"dataframe\">\n",
       "  <thead>\n",
       "    <tr style=\"text-align: right;\">\n",
       "      <th></th>\n",
       "      <th>user_id</th>\n",
       "      <th>product_id</th>\n",
       "      <th>trial</th>\n",
       "      <th>refunded</th>\n",
       "      <th>purchase_date</th>\n",
       "      <th>country_code</th>\n",
       "      <th>media_source</th>\n",
       "    </tr>\n",
       "  </thead>\n",
       "  <tbody>\n",
       "    <tr>\n",
       "      <th>0</th>\n",
       "      <td>2589061</td>\n",
       "      <td>tenwords_1w_7.99_7free</td>\n",
       "      <td>True</td>\n",
       "      <td>False</td>\n",
       "      <td>2020-09-27</td>\n",
       "      <td>JO</td>\n",
       "      <td>Facebook Ads</td>\n",
       "    </tr>\n",
       "    <tr>\n",
       "      <th>1</th>\n",
       "      <td>2604470</td>\n",
       "      <td>tenwords_1w_9.99_offer</td>\n",
       "      <td>False</td>\n",
       "      <td>False</td>\n",
       "      <td>2020-09-29</td>\n",
       "      <td>UK</td>\n",
       "      <td>Facebook Ads</td>\n",
       "    </tr>\n",
       "    <tr>\n",
       "      <th>2</th>\n",
       "      <td>2274467</td>\n",
       "      <td>tenwords_1w_9.99_offer</td>\n",
       "      <td>False</td>\n",
       "      <td>False</td>\n",
       "      <td>2020-08-18</td>\n",
       "      <td>Organic/Unknown</td>\n",
       "      <td>Organic/Unknown</td>\n",
       "    </tr>\n",
       "    <tr>\n",
       "      <th>3</th>\n",
       "      <td>2488755</td>\n",
       "      <td>tenwords_lifetime_limited_49.99</td>\n",
       "      <td>False</td>\n",
       "      <td>False</td>\n",
       "      <td>2020-09-14</td>\n",
       "      <td>PE</td>\n",
       "      <td>Facebook Ads</td>\n",
       "    </tr>\n",
       "    <tr>\n",
       "      <th>4</th>\n",
       "      <td>2571294</td>\n",
       "      <td>tenwords_1w_9.99_offer</td>\n",
       "      <td>False</td>\n",
       "      <td>False</td>\n",
       "      <td>2020-09-25</td>\n",
       "      <td>US</td>\n",
       "      <td>Google Ads</td>\n",
       "    </tr>\n",
       "    <tr>\n",
       "      <th>...</th>\n",
       "      <td>...</td>\n",
       "      <td>...</td>\n",
       "      <td>...</td>\n",
       "      <td>...</td>\n",
       "      <td>...</td>\n",
       "      <td>...</td>\n",
       "      <td>...</td>\n",
       "    </tr>\n",
       "    <tr>\n",
       "      <th>62869</th>\n",
       "      <td>2148303</td>\n",
       "      <td>tenwords_1w_7.99_7free</td>\n",
       "      <td>True</td>\n",
       "      <td>False</td>\n",
       "      <td>2020-07-28</td>\n",
       "      <td>US</td>\n",
       "      <td>Facebook Ads</td>\n",
       "    </tr>\n",
       "    <tr>\n",
       "      <th>62870</th>\n",
       "      <td>2223292</td>\n",
       "      <td>tenwords_1w_9.99_offer</td>\n",
       "      <td>False</td>\n",
       "      <td>False</td>\n",
       "      <td>2020-08-16</td>\n",
       "      <td>BR</td>\n",
       "      <td>Facebook Ads</td>\n",
       "    </tr>\n",
       "    <tr>\n",
       "      <th>62871</th>\n",
       "      <td>2169641</td>\n",
       "      <td>tenwords_1w_9.99_offer</td>\n",
       "      <td>False</td>\n",
       "      <td>False</td>\n",
       "      <td>2020-09-04</td>\n",
       "      <td>Organic/Unknown</td>\n",
       "      <td>Organic/Unknown</td>\n",
       "    </tr>\n",
       "    <tr>\n",
       "      <th>62872</th>\n",
       "      <td>2169641</td>\n",
       "      <td>tenwords_1w_9.99_offer</td>\n",
       "      <td>False</td>\n",
       "      <td>False</td>\n",
       "      <td>2020-08-07</td>\n",
       "      <td>Organic/Unknown</td>\n",
       "      <td>Organic/Unknown</td>\n",
       "    </tr>\n",
       "    <tr>\n",
       "      <th>62873</th>\n",
       "      <td>717305</td>\n",
       "      <td>tenwords_lifetime_limited_49.99</td>\n",
       "      <td>False</td>\n",
       "      <td>False</td>\n",
       "      <td>2020-09-15</td>\n",
       "      <td>US</td>\n",
       "      <td>Facebook Ads</td>\n",
       "    </tr>\n",
       "  </tbody>\n",
       "</table>\n",
       "<p>62874 rows × 7 columns</p>\n",
       "</div>"
      ],
      "text/plain": [
       "       user_id                       product_id  trial  refunded  \\\n",
       "0      2589061           tenwords_1w_7.99_7free   True     False   \n",
       "1      2604470           tenwords_1w_9.99_offer  False     False   \n",
       "2      2274467           tenwords_1w_9.99_offer  False     False   \n",
       "3      2488755  tenwords_lifetime_limited_49.99  False     False   \n",
       "4      2571294           tenwords_1w_9.99_offer  False     False   \n",
       "...        ...                              ...    ...       ...   \n",
       "62869  2148303           tenwords_1w_7.99_7free   True     False   \n",
       "62870  2223292           tenwords_1w_9.99_offer  False     False   \n",
       "62871  2169641           tenwords_1w_9.99_offer  False     False   \n",
       "62872  2169641           tenwords_1w_9.99_offer  False     False   \n",
       "62873   717305  tenwords_lifetime_limited_49.99  False     False   \n",
       "\n",
       "      purchase_date     country_code     media_source  \n",
       "0        2020-09-27               JO     Facebook Ads  \n",
       "1        2020-09-29               UK     Facebook Ads  \n",
       "2        2020-08-18  Organic/Unknown  Organic/Unknown  \n",
       "3        2020-09-14               PE     Facebook Ads  \n",
       "4        2020-09-25               US       Google Ads  \n",
       "...             ...              ...              ...  \n",
       "62869    2020-07-28               US     Facebook Ads  \n",
       "62870    2020-08-16               BR     Facebook Ads  \n",
       "62871    2020-09-04  Organic/Unknown  Organic/Unknown  \n",
       "62872    2020-08-07  Organic/Unknown  Organic/Unknown  \n",
       "62873    2020-09-15               US     Facebook Ads  \n",
       "\n",
       "[62874 rows x 7 columns]"
      ]
     },
     "execution_count": 50,
     "metadata": {},
     "output_type": "execute_result"
    }
   ],
   "source": [
    "df"
   ]
  },
  {
   "cell_type": "code",
   "execution_count": 51,
   "id": "71953431",
   "metadata": {
    "scrolled": true
   },
   "outputs": [
    {
     "data": {
      "image/png": "[encoded data removed]",
      "text/plain": [
       "<Figure size 720x432 with 1 Axes>"
      ]
     },
     "metadata": {
      "needs_background": "light"
     },
     "output_type": "display_data"
    }
   ],
   "source": [
    "plt.figure(figsize = (10,6))\n",
    "sns.countplot(x='product_id', data=df);"
   ]
  },
  {
   "cell_type": "code",
   "execution_count": 54,
   "id": "afcc52b4",
   "metadata": {},
   "outputs": [
    {
     "data": {
      "text/plain": [
       "user_id          2053\n",
       "product_id       2053\n",
       "trial            2053\n",
       "refunded         2053\n",
       "purchase_date    2053\n",
       "country_code     2049\n",
       "media_source     2053\n",
       "dtype: int64"
      ]
     },
     "execution_count": 54,
     "metadata": {},
     "output_type": "execute_result"
    }
   ],
   "source": [
    "df[df['product_id'] == 'tenwords_lifetime_limited_49.99'].count()"
   ]
  },
  {
   "cell_type": "code",
   "execution_count": 44,
   "id": "7a71f929",
   "metadata": {},
   "outputs": [
    {
     "data": {
      "image/png": "[encoded data removed]",
      "text/plain": [
       "<Figure size 432x288 with 1 Axes>"
      ]
     },
     "metadata": {
      "needs_background": "light"
     },
     "output_type": "display_data"
    }
   ],
   "source": [
    "sns.countplot(x= 'media_source', data=df);"
   ]
  },
  {
   "cell_type": "code",
   "execution_count": 46,
   "id": "032772fe",
   "metadata": {},
   "outputs": [
    {
     "data": {
      "text/html": [
       "<div>\n",
       "<style scoped>\n",
       "    .dataframe tbody tr th:only-of-type {\n",
       "        vertical-align: middle;\n",
       "    }\n",
       "\n",
       "    .dataframe tbody tr th {\n",
       "        vertical-align: top;\n",
       "    }\n",
       "\n",
       "    .dataframe thead th {\n",
       "        text-align: right;\n",
       "    }\n",
       "</style>\n",
       "<table border=\"1\" class=\"dataframe\">\n",
       "  <thead>\n",
       "    <tr style=\"text-align: right;\">\n",
       "      <th></th>\n",
       "      <th>user_id</th>\n",
       "      <th>product_id</th>\n",
       "      <th>trial</th>\n",
       "      <th>refunded</th>\n",
       "      <th>purchase_date</th>\n",
       "      <th>country_code</th>\n",
       "      <th>media_source</th>\n",
       "    </tr>\n",
       "  </thead>\n",
       "  <tbody>\n",
       "    <tr>\n",
       "      <th>0</th>\n",
       "      <td>2589061</td>\n",
       "      <td>tenwords_1w_7.99_7free</td>\n",
       "      <td>True</td>\n",
       "      <td>False</td>\n",
       "      <td>2020-09-27</td>\n",
       "      <td>JO</td>\n",
       "      <td>Facebook Ads</td>\n",
       "    </tr>\n",
       "    <tr>\n",
       "      <th>1</th>\n",
       "      <td>2604470</td>\n",
       "      <td>tenwords_1w_9.99_offer</td>\n",
       "      <td>False</td>\n",
       "      <td>False</td>\n",
       "      <td>2020-09-29</td>\n",
       "      <td>UK</td>\n",
       "      <td>Facebook Ads</td>\n",
       "    </tr>\n",
       "    <tr>\n",
       "      <th>3</th>\n",
       "      <td>2488755</td>\n",
       "      <td>tenwords_lifetime_limited_49.99</td>\n",
       "      <td>False</td>\n",
       "      <td>False</td>\n",
       "      <td>2020-09-14</td>\n",
       "      <td>PE</td>\n",
       "      <td>Facebook Ads</td>\n",
       "    </tr>\n",
       "    <tr>\n",
       "      <th>5</th>\n",
       "      <td>2217390</td>\n",
       "      <td>tenwords_1w_9.99_offer</td>\n",
       "      <td>False</td>\n",
       "      <td>False</td>\n",
       "      <td>2020-09-05</td>\n",
       "      <td>MX</td>\n",
       "      <td>Facebook Ads</td>\n",
       "    </tr>\n",
       "    <tr>\n",
       "      <th>6</th>\n",
       "      <td>2086438</td>\n",
       "      <td>tenwords_1w_9.99_offer</td>\n",
       "      <td>False</td>\n",
       "      <td>False</td>\n",
       "      <td>2020-07-28</td>\n",
       "      <td>US</td>\n",
       "      <td>Facebook Ads</td>\n",
       "    </tr>\n",
       "    <tr>\n",
       "      <th>...</th>\n",
       "      <td>...</td>\n",
       "      <td>...</td>\n",
       "      <td>...</td>\n",
       "      <td>...</td>\n",
       "      <td>...</td>\n",
       "      <td>...</td>\n",
       "      <td>...</td>\n",
       "    </tr>\n",
       "    <tr>\n",
       "      <th>62867</th>\n",
       "      <td>1972540</td>\n",
       "      <td>tenwords_1w_9.99_offer</td>\n",
       "      <td>False</td>\n",
       "      <td>False</td>\n",
       "      <td>2020-07-17</td>\n",
       "      <td>US</td>\n",
       "      <td>Facebook Ads</td>\n",
       "    </tr>\n",
       "    <tr>\n",
       "      <th>62868</th>\n",
       "      <td>1972540</td>\n",
       "      <td>tenwords_1w_9.99_offer</td>\n",
       "      <td>False</td>\n",
       "      <td>False</td>\n",
       "      <td>2020-07-03</td>\n",
       "      <td>US</td>\n",
       "      <td>Facebook Ads</td>\n",
       "    </tr>\n",
       "    <tr>\n",
       "      <th>62869</th>\n",
       "      <td>2148303</td>\n",
       "      <td>tenwords_1w_7.99_7free</td>\n",
       "      <td>True</td>\n",
       "      <td>False</td>\n",
       "      <td>2020-07-28</td>\n",
       "      <td>US</td>\n",
       "      <td>Facebook Ads</td>\n",
       "    </tr>\n",
       "    <tr>\n",
       "      <th>62870</th>\n",
       "      <td>2223292</td>\n",
       "      <td>tenwords_1w_9.99_offer</td>\n",
       "      <td>False</td>\n",
       "      <td>False</td>\n",
       "      <td>2020-08-16</td>\n",
       "      <td>BR</td>\n",
       "      <td>Facebook Ads</td>\n",
       "    </tr>\n",
       "    <tr>\n",
       "      <th>62873</th>\n",
       "      <td>717305</td>\n",
       "      <td>tenwords_lifetime_limited_49.99</td>\n",
       "      <td>False</td>\n",
       "      <td>False</td>\n",
       "      <td>2020-09-15</td>\n",
       "      <td>US</td>\n",
       "      <td>Facebook Ads</td>\n",
       "    </tr>\n",
       "  </tbody>\n",
       "</table>\n",
       "<p>50779 rows × 7 columns</p>\n",
       "</div>"
      ],
      "text/plain": [
       "       user_id                       product_id  trial  refunded  \\\n",
       "0      2589061           tenwords_1w_7.99_7free   True     False   \n",
       "1      2604470           tenwords_1w_9.99_offer  False     False   \n",
       "3      2488755  tenwords_lifetime_limited_49.99  False     False   \n",
       "5      2217390           tenwords_1w_9.99_offer  False     False   \n",
       "6      2086438           tenwords_1w_9.99_offer  False     False   \n",
       "...        ...                              ...    ...       ...   \n",
       "62867  1972540           tenwords_1w_9.99_offer  False     False   \n",
       "62868  1972540           tenwords_1w_9.99_offer  False     False   \n",
       "62869  2148303           tenwords_1w_7.99_7free   True     False   \n",
       "62870  2223292           tenwords_1w_9.99_offer  False     False   \n",
       "62873   717305  tenwords_lifetime_limited_49.99  False     False   \n",
       "\n",
       "      purchase_date country_code  media_source  \n",
       "0        2020-09-27           JO  Facebook Ads  \n",
       "1        2020-09-29           UK  Facebook Ads  \n",
       "3        2020-09-14           PE  Facebook Ads  \n",
       "5        2020-09-05           MX  Facebook Ads  \n",
       "6        2020-07-28           US  Facebook Ads  \n",
       "...             ...          ...           ...  \n",
       "62867    2020-07-17           US  Facebook Ads  \n",
       "62868    2020-07-03           US  Facebook Ads  \n",
       "62869    2020-07-28           US  Facebook Ads  \n",
       "62870    2020-08-16           BR  Facebook Ads  \n",
       "62873    2020-09-15           US  Facebook Ads  \n",
       "\n",
       "[50779 rows x 7 columns]"
      ]
     },
     "execution_count": 46,
     "metadata": {},
     "output_type": "execute_result"
    }
   ],
   "source": [
    "df[(df['media_source'] == 'Facebook Ads')]"
   ]
  },
  {
   "cell_type": "code",
   "execution_count": 4,
   "id": "7cfa8059",
   "metadata": {},
   "outputs": [
    {
     "data": {
      "text/plain": [
       "Index(['user_id', 'product_id', 'trial', 'refunded', 'purchase_date',\n",
       "       'country_code', 'media_source'],\n",
       "      dtype='object')"
      ]
     },
     "execution_count": 4,
     "metadata": {},
     "output_type": "execute_result"
    }
   ],
   "source": [
    "df.columns"
   ]
  },
  {
   "cell_type": "code",
   "execution_count": 11,
   "id": "2babe1f5",
   "metadata": {},
   "outputs": [
    {
     "data": {
      "text/plain": [
       "array(['tenwords_1w_9.99_offer', 'tenwords_1w_7.99_7free',\n",
       "       'tenwords_lifetime_limited_49.99'], dtype=object)"
      ]
     },
     "execution_count": 11,
     "metadata": {},
     "output_type": "execute_result"
    }
   ],
   "source": [
    "df[(df['country_code'] == 'UK')]['product_id'].unique()"
   ]
  },
  {
   "cell_type": "code",
   "execution_count": 82,
   "id": "4396d2eb",
   "metadata": {
    "scrolled": true
   },
   "outputs": [
    {
     "data": {
      "text/html": [
       "<div>\n",
       "<style scoped>\n",
       "    .dataframe tbody tr th:only-of-type {\n",
       "        vertical-align: middle;\n",
       "    }\n",
       "\n",
       "    .dataframe tbody tr th {\n",
       "        vertical-align: top;\n",
       "    }\n",
       "\n",
       "    .dataframe thead th {\n",
       "        text-align: right;\n",
       "    }\n",
       "</style>\n",
       "<table border=\"1\" class=\"dataframe\">\n",
       "  <thead>\n",
       "    <tr style=\"text-align: right;\">\n",
       "      <th></th>\n",
       "      <th>user_id</th>\n",
       "    </tr>\n",
       "  </thead>\n",
       "  <tbody>\n",
       "    <tr>\n",
       "      <th>count</th>\n",
       "      <td>6.287400e+04</td>\n",
       "    </tr>\n",
       "    <tr>\n",
       "      <th>mean</th>\n",
       "      <td>2.134402e+06</td>\n",
       "    </tr>\n",
       "    <tr>\n",
       "      <th>std</th>\n",
       "      <td>3.857521e+05</td>\n",
       "    </tr>\n",
       "    <tr>\n",
       "      <th>min</th>\n",
       "      <td>3.935000e+03</td>\n",
       "    </tr>\n",
       "    <tr>\n",
       "      <th>25%</th>\n",
       "      <td>2.056526e+06</td>\n",
       "    </tr>\n",
       "    <tr>\n",
       "      <th>50%</th>\n",
       "      <td>2.174998e+06</td>\n",
       "    </tr>\n",
       "    <tr>\n",
       "      <th>75%</th>\n",
       "      <td>2.332242e+06</td>\n",
       "    </tr>\n",
       "    <tr>\n",
       "      <th>max</th>\n",
       "      <td>2.828118e+06</td>\n",
       "    </tr>\n",
       "  </tbody>\n",
       "</table>\n",
       "</div>"
      ],
      "text/plain": [
       "            user_id\n",
       "count  6.287400e+04\n",
       "mean   2.134402e+06\n",
       "std    3.857521e+05\n",
       "min    3.935000e+03\n",
       "25%    2.056526e+06\n",
       "50%    2.174998e+06\n",
       "75%    2.332242e+06\n",
       "max    2.828118e+06"
      ]
     },
     "execution_count": 82,
     "metadata": {},
     "output_type": "execute_result"
    }
   ],
   "source": [
    "df.describe()"
   ]
  },
  {
   "cell_type": "code",
   "execution_count": 6,
   "id": "447dd155",
   "metadata": {},
   "outputs": [
    {
     "name": "stdout",
     "output_type": "stream",
     "text": [
      "<class 'pandas.core.frame.DataFrame'>\n",
      "RangeIndex: 62874 entries, 0 to 62873\n",
      "Data columns (total 7 columns):\n",
      " #   Column         Non-Null Count  Dtype \n",
      "---  ------         --------------  ----- \n",
      " 0   user_id        62874 non-null  int64 \n",
      " 1   product_id     62874 non-null  object\n",
      " 2   trial          62874 non-null  bool  \n",
      " 3   refunded       62874 non-null  bool  \n",
      " 4   purchase_date  62874 non-null  object\n",
      " 5   country_code   62746 non-null  object\n",
      " 6   media_source   62874 non-null  object\n",
      "dtypes: bool(2), int64(1), object(4)\n",
      "memory usage: 2.5+ MB\n"
     ]
    }
   ],
   "source": [
    "df.info()"
   ]
  },
  {
   "cell_type": "code",
   "execution_count": 16,
   "id": "65512b75",
   "metadata": {},
   "outputs": [
    {
     "data": {
      "text/plain": [
       "user_id            0\n",
       "product_id         0\n",
       "trial              0\n",
       "refunded           0\n",
       "purchase_date      0\n",
       "country_code     128\n",
       "media_source       0\n",
       "dtype: int64"
      ]
     },
     "execution_count": 16,
     "metadata": {},
     "output_type": "execute_result"
    }
   ],
   "source": [
    "df.isna().sum()"
   ]
  },
  {
   "cell_type": "code",
   "execution_count": 14,
   "id": "03ac0123",
   "metadata": {},
   "outputs": [
    {
     "data": {
      "text/html": [
       "<div>\n",
       "<style scoped>\n",
       "    .dataframe tbody tr th:only-of-type {\n",
       "        vertical-align: middle;\n",
       "    }\n",
       "\n",
       "    .dataframe tbody tr th {\n",
       "        vertical-align: top;\n",
       "    }\n",
       "\n",
       "    .dataframe thead th {\n",
       "        text-align: right;\n",
       "    }\n",
       "</style>\n",
       "<table border=\"1\" class=\"dataframe\">\n",
       "  <thead>\n",
       "    <tr style=\"text-align: right;\">\n",
       "      <th></th>\n",
       "      <th>user_id</th>\n",
       "      <th>product_id</th>\n",
       "      <th>trial</th>\n",
       "      <th>refunded</th>\n",
       "      <th>purchase_date</th>\n",
       "      <th>country_code</th>\n",
       "      <th>media_source</th>\n",
       "    </tr>\n",
       "  </thead>\n",
       "  <tbody>\n",
       "    <tr>\n",
       "      <th>16</th>\n",
       "      <td>2579242</td>\n",
       "      <td>tenwords_1w_9.99_offer</td>\n",
       "      <td>False</td>\n",
       "      <td>False</td>\n",
       "      <td>2020-09-26</td>\n",
       "      <td>NaN</td>\n",
       "      <td>Organic/Unknown</td>\n",
       "    </tr>\n",
       "    <tr>\n",
       "      <th>169</th>\n",
       "      <td>2021359</td>\n",
       "      <td>tenwords_1w_7.99_7free</td>\n",
       "      <td>True</td>\n",
       "      <td>False</td>\n",
       "      <td>2020-07-12</td>\n",
       "      <td>NaN</td>\n",
       "      <td>Organic/Unknown</td>\n",
       "    </tr>\n",
       "    <tr>\n",
       "      <th>477</th>\n",
       "      <td>1254412</td>\n",
       "      <td>tenwords_1w_9.99_offer</td>\n",
       "      <td>False</td>\n",
       "      <td>False</td>\n",
       "      <td>2020-07-26</td>\n",
       "      <td>NaN</td>\n",
       "      <td>Organic/Unknown</td>\n",
       "    </tr>\n",
       "    <tr>\n",
       "      <th>547</th>\n",
       "      <td>1348045</td>\n",
       "      <td>tenwords_1w_9.99_offer</td>\n",
       "      <td>False</td>\n",
       "      <td>False</td>\n",
       "      <td>2020-08-03</td>\n",
       "      <td>NaN</td>\n",
       "      <td>Organic/Unknown</td>\n",
       "    </tr>\n",
       "    <tr>\n",
       "      <th>1423</th>\n",
       "      <td>2144116</td>\n",
       "      <td>tenwords_1w_9.99_offer</td>\n",
       "      <td>False</td>\n",
       "      <td>False</td>\n",
       "      <td>2020-08-17</td>\n",
       "      <td>NaN</td>\n",
       "      <td>Organic/Unknown</td>\n",
       "    </tr>\n",
       "    <tr>\n",
       "      <th>...</th>\n",
       "      <td>...</td>\n",
       "      <td>...</td>\n",
       "      <td>...</td>\n",
       "      <td>...</td>\n",
       "      <td>...</td>\n",
       "      <td>...</td>\n",
       "      <td>...</td>\n",
       "    </tr>\n",
       "    <tr>\n",
       "      <th>61159</th>\n",
       "      <td>2069948</td>\n",
       "      <td>tenwords_1w_9.99_offer</td>\n",
       "      <td>False</td>\n",
       "      <td>False</td>\n",
       "      <td>2020-07-19</td>\n",
       "      <td>NaN</td>\n",
       "      <td>Organic/Unknown</td>\n",
       "    </tr>\n",
       "    <tr>\n",
       "      <th>61338</th>\n",
       "      <td>2290561</td>\n",
       "      <td>tenwords_1w_9.99_offer</td>\n",
       "      <td>False</td>\n",
       "      <td>False</td>\n",
       "      <td>2020-07-30</td>\n",
       "      <td>NaN</td>\n",
       "      <td>Organic/Unknown</td>\n",
       "    </tr>\n",
       "    <tr>\n",
       "      <th>61991</th>\n",
       "      <td>2584207</td>\n",
       "      <td>tenwords_1w_9.99_offer</td>\n",
       "      <td>False</td>\n",
       "      <td>False</td>\n",
       "      <td>2020-09-15</td>\n",
       "      <td>NaN</td>\n",
       "      <td>Organic/Unknown</td>\n",
       "    </tr>\n",
       "    <tr>\n",
       "      <th>62325</th>\n",
       "      <td>2431923</td>\n",
       "      <td>tenwords_1w_9.99_offer</td>\n",
       "      <td>False</td>\n",
       "      <td>False</td>\n",
       "      <td>2020-09-09</td>\n",
       "      <td>NaN</td>\n",
       "      <td>Facebook Ads</td>\n",
       "    </tr>\n",
       "    <tr>\n",
       "      <th>62831</th>\n",
       "      <td>2409378</td>\n",
       "      <td>tenwords_1w_9.99_offer</td>\n",
       "      <td>False</td>\n",
       "      <td>True</td>\n",
       "      <td>2020-09-06</td>\n",
       "      <td>NaN</td>\n",
       "      <td>Organic/Unknown</td>\n",
       "    </tr>\n",
       "  </tbody>\n",
       "</table>\n",
       "<p>128 rows × 7 columns</p>\n",
       "</div>"
      ],
      "text/plain": [
       "       user_id              product_id  trial  refunded purchase_date  \\\n",
       "16     2579242  tenwords_1w_9.99_offer  False     False    2020-09-26   \n",
       "169    2021359  tenwords_1w_7.99_7free   True     False    2020-07-12   \n",
       "477    1254412  tenwords_1w_9.99_offer  False     False    2020-07-26   \n",
       "547    1348045  tenwords_1w_9.99_offer  False     False    2020-08-03   \n",
       "1423   2144116  tenwords_1w_9.99_offer  False     False    2020-08-17   \n",
       "...        ...                     ...    ...       ...           ...   \n",
       "61159  2069948  tenwords_1w_9.99_offer  False     False    2020-07-19   \n",
       "61338  2290561  tenwords_1w_9.99_offer  False     False    2020-07-30   \n",
       "61991  2584207  tenwords_1w_9.99_offer  False     False    2020-09-15   \n",
       "62325  2431923  tenwords_1w_9.99_offer  False     False    2020-09-09   \n",
       "62831  2409378  tenwords_1w_9.99_offer  False      True    2020-09-06   \n",
       "\n",
       "      country_code     media_source  \n",
       "16             NaN  Organic/Unknown  \n",
       "169            NaN  Organic/Unknown  \n",
       "477            NaN  Organic/Unknown  \n",
       "547            NaN  Organic/Unknown  \n",
       "1423           NaN  Organic/Unknown  \n",
       "...            ...              ...  \n",
       "61159          NaN  Organic/Unknown  \n",
       "61338          NaN  Organic/Unknown  \n",
       "61991          NaN  Organic/Unknown  \n",
       "62325          NaN     Facebook Ads  \n",
       "62831          NaN  Organic/Unknown  \n",
       "\n",
       "[128 rows x 7 columns]"
      ]
     },
     "execution_count": 14,
     "metadata": {},
     "output_type": "execute_result"
    }
   ],
   "source": [
    "df[(df['country_code'].isna() == True)]"
   ]
  },
  {
   "cell_type": "code",
   "execution_count": 7,
   "id": "a7b250bb",
   "metadata": {},
   "outputs": [
    {
     "data": {
      "text/plain": [
       "array(['JO', 'UK', 'Organic/Unknown', 'PE', 'US', 'MX', 'CO', 'AE', 'AU',\n",
       "       'DE', 'MO', 'CA', nan, 'RU', 'SA', 'HK', 'SE', 'BH', 'ZA', 'NC',\n",
       "       'IN', 'UA', 'TH', 'TW', 'PH', 'DK', 'KW', 'BR', 'TR', 'PL', 'NG',\n",
       "       'CH', 'MD', 'QA', 'CN', 'MY', 'PG', 'FR', 'CZ', 'KR', 'SK', 'DO',\n",
       "       'HT', 'ES', 'NO', 'BE', 'PR', 'LT', 'PT', 'NZ', 'NL', 'KH', 'HR',\n",
       "       'GM', 'IR', 'GH', 'JP', 'GR', 'HU', 'KZ', 'ID', 'SG', 'RO', 'KE',\n",
       "       'EG', 'DZ', 'FI', 'CL', 'IT', 'IS', 'RS', 'HN', 'CY', 'AT', 'VN',\n",
       "       'JM', 'RE', 'BG', 'LV', 'EE', 'UZ', 'AR', 'BY', 'IL', 'OM', 'UG',\n",
       "       'ZM', 'MU', 'IE', 'CR', 'PK', 'EC', 'MZ', 'BS', 'GP', 'ET', 'GU',\n",
       "       'CM', 'GT', 'MT', 'LU', 'LB', 'PA', 'BJ', 'AM', 'MV', 'MN', 'SI',\n",
       "       'AF', 'AZ', 'TZ', 'CI', 'UY', 'BW', 'IQ', 'SN', 'BO', 'MA', 'LY',\n",
       "       'NI', 'ML', 'NP', 'MH', 'BN', 'SL', 'SV', 'ZW', 'GE', 'MR', 'KY',\n",
       "       'SC', 'AO', 'YE', 'SS', 'VI', 'MM', 'NE', 'DM', 'BA', 'MC', 'BB',\n",
       "       'LI', 'LR', 'LK', 'AW', 'SX', 'KG', 'AS', 'AL', 'CD', 'TT', 'BI',\n",
       "       'FJ', 'TD', 'LA', 'LS', 'VU', 'MG', 'GD', 'MW', 'TN', 'BD', 'GY',\n",
       "       'SO', 'YT', 'BM', 'JE', 'RW', 'IM', 'VE', 'KN', 'AD', 'GI', 'TC',\n",
       "       'PF', 'MQ', 'GL', 'GF', 'VG', 'ME', 'CW', 'SR', 'PS', 'PW', 'PY',\n",
       "       'GN', 'BF', 'BQ', 'BT', 'DJ', 'MK', 'GA', 'CV', 'TJ', 'SZ', 'CG',\n",
       "       'AG', 'BZ', 'CK', 'FM', 'AX'], dtype=object)"
      ]
     },
     "execution_count": 7,
     "metadata": {},
     "output_type": "execute_result"
    }
   ],
   "source": [
    "df['country_code'].unique()"
   ]
  },
  {
   "cell_type": "code",
   "execution_count": 21,
   "id": "84500ac2",
   "metadata": {},
   "outputs": [],
   "source": [
    "helper_dictionary_of_price = {\n",
    "    'tenwords_1w_7.99_7free': 7.99,\n",
    "    'tenwords_1w_9.99_offer':9.99,\n",
    "    'tenwords_lifetime_limited_49.99': 49.99\n",
    "}"
   ]
  },
  {
   "cell_type": "code",
   "execution_count": 22,
   "id": "c217a6c3",
   "metadata": {},
   "outputs": [
    {
     "data": {
      "text/plain": [
       "array(['tenwords_1w_7.99_7free', 'tenwords_1w_9.99_offer',\n",
       "       'tenwords_lifetime_limited_49.99'], dtype=object)"
      ]
     },
     "execution_count": 22,
     "metadata": {},
     "output_type": "execute_result"
    }
   ],
   "source": [
    "df['product_id'].unique()"
   ]
  },
  {
   "cell_type": "code",
   "execution_count": null,
   "id": "b83b4c5c",
   "metadata": {},
   "outputs": [],
   "source": []
  },
  {
   "cell_type": "code",
   "execution_count": null,
   "id": "f290b6ca",
   "metadata": {},
   "outputs": [],
   "source": []
  }
 ],
 "metadata": {
  "kernelspec": {
   "display_name": "Python 3 (ipykernel)",
   "language": "python",
   "name": "python3"
  },
  "language_info": {
   "codemirror_mode": {
    "name": "ipython",
    "version": 3
   },
   "file_extension": ".py",
   "mimetype": "text/x-python",
   "name": "python",
   "nbconvert_exporter": "python",
   "pygments_lexer": "ipython3",
   "version": "3.10.5"
  }
 },
 "nbformat": 4,
 "nbformat_minor": 5
}
